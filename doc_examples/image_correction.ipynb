{
 "cells": [
  {
   "cell_type": "markdown",
   "metadata": {},
   "source": [
    "<h1>Image Correction Tests</h1>\n",
    "<p>- Here we will use the master flats and biases to calibrate images.</p>"
   ]
  },
  {
   "cell_type": "code",
   "execution_count": 1,
   "metadata": {},
   "outputs": [
    {
     "name": "stdout",
     "output_type": "stream",
     "text": [
      "---------------------------------------------------------------------------------------------------------------------------------------------\n",
      "loading images from /Users/spencerfreeman/Desktop/stepUp/skuban-freeman2024-07-8 including the string lrp...\n",
      "---------------------------------------------------------------------------------------------------------------------------------------------\n",
      "---------------------------------------------------------------------------------------------------------------------------------------------\n",
      "loading images from /Users/spencerfreeman/Desktop/stepUp/skuban-freeman2024-07-8 including the string mflat.fit...\n",
      "---------------------------------------------------------------------------------------------------------------------------------------------\n",
      "---------------------------------------------------------------------------------------------------------------------------------------------\n",
      "loading images from /Users/spencerfreeman/Desktop/stepUp/skuban-freeman2024-07-8 including the string mbias.fit...\n",
      "---------------------------------------------------------------------------------------------------------------------------------------------\n",
      "total lights loaded: 79\n",
      "total flats loaded: 1\n",
      "total biases loaded: 1\n"
     ]
    }
   ],
   "source": [
    "'''\n",
    "load images the same way as did last time\n",
    "'''\n",
    "\n",
    "import os\n",
    "import collections \n",
    "from astropy.io import fits\n",
    "import matplotlib.pyplot as plt\n",
    "%matplotlib inline\n",
    "\n",
    "#user specific path...\n",
    "directory = '/Users/spencerfreeman/Desktop/stepUp/skuban-freeman2024-07-8'\n",
    "#this linked list stores float arrays of each image, these can be manipulated.\n",
    "\n",
    "\n",
    "light_frame_indicator = \"lrp\"\n",
    "flat_frame_indicator = \"mflat.fit\"\n",
    "bias_frame_indicator = \"mbias.fit\"\n",
    "\n",
    "'''\n",
    "if it turns out we need more information from the fits images, then the file objects must be adjusted in these methods.\n",
    "'''\n",
    "#helper method\n",
    "def print_guidance(name_indicator, directory):\n",
    "    print(\"---------------------------------------------------------------------------------------------------------------------------------------------\")\n",
    "    print(\"loading images from {0} including the string {1}...\".format(directory, name_indicator))\n",
    "    print(\"---------------------------------------------------------------------------------------------------------------------------------------------\")\n",
    "\n",
    "#running method\n",
    "def load_light_frames(directory, light_frame_indicator):\n",
    "    light_frame_linkedlist = collections.deque()\n",
    "    print_guidance(light_frame_indicator, directory)\n",
    "    for filename in os.listdir(directory):\n",
    "        f = os.path.join(directory, filename)\n",
    "        if os.path.isfile(f) and light_frame_indicator in filename:\n",
    "            file = fits.open(f)\n",
    "            light_frame_linkedlist.append(file[0].data)\n",
    "    return light_frame_linkedlist\n",
    "\n",
    "def load_bias_frames(directory, bias_frame_indicator):\n",
    "    print_guidance(bias_frame_indicator, directory)\n",
    "    bias_frame_linkedlist = collections.deque()\n",
    "    for filename in os.listdir(directory):\n",
    "        f = os.path.join(directory, filename)\n",
    "        if os.path.isfile(f) and bias_frame_indicator in filename:\n",
    "            file = fits.open(f)\n",
    "            bias_frame_linkedlist.append(file[0].data)\n",
    "    return bias_frame_linkedlist\n",
    "\n",
    "def load_flat_frames(directory, flat_frame_indicator):\n",
    "    print_guidance(flat_frame_indicator, directory)\n",
    "    flat_frame_linkedlist = collections.deque()\n",
    "    for filename in os.listdir(directory):\n",
    "        f = os.path.join(directory, filename)\n",
    "        if os.path.isfile(f) and flat_frame_indicator in filename:\n",
    "            file = fits.open(f)\n",
    "            flat_frame_linkedlist.append(file[0].data)\n",
    "    return flat_frame_linkedlist\n",
    "\n",
    "#linked list storing lights wil now be stored in l\n",
    "lights = load_light_frames(directory, light_frame_indicator)\n",
    "flats = load_flat_frames(directory, flat_frame_indicator)\n",
    "biases = load_bias_frames(directory, bias_frame_indicator)\n",
    "\n",
    "print('total lights loaded: {0}'.format(len(lights)))\n",
    "print('total flats loaded: {0}'.format(len(flats)))\n",
    "print('total biases loaded: {0}'.format(len(biases)))\n",
    "#plt.imshow(fits.open(os.path.join(directory, \"mflat.fit\"))[0].data)\n",
    "# plt.imshow(lights[0])\n",
    "# plt.imshow(flats[0])\n",
    " "
   ]
  },
  {
   "cell_type": "code",
   "execution_count": 37,
   "metadata": {},
   "outputs": [
    {
     "data": {
      "text/plain": [
       "[4096, 4096]"
      ]
     },
     "execution_count": 37,
     "metadata": {},
     "output_type": "execute_result"
    }
   ],
   "source": [
    "'''\n",
    "return our array dimensions for resizing purposes...\n",
    "'''\n",
    "def return_dimensions(pixel_2d_array):\n",
    "    return ([len(pixel_2d_array), len(pixel_2d_array[0])])\n",
    "\n",
    "return_dimensions(flats[0])"
   ]
  },
  {
   "cell_type": "code",
   "execution_count": 45,
   "metadata": {},
   "outputs": [
    {
     "name": "stdout",
     "output_type": "stream",
     "text": [
      "4096\n"
     ]
    },
    {
     "data": {
      "text/plain": [
       "array([[0.95492005, 0.9566742 , 0.95517564, ..., 0.9493251 , 0.95174515,\n",
       "        0.942598  ],\n",
       "       [0.95858014, 0.9633403 , 0.94877166, ..., 0.9501952 , 0.9479724 ,\n",
       "        0.94133544],\n",
       "       [0.9537617 , 0.9534978 , 0.9540235 , ..., 0.9490384 , 0.9431175 ,\n",
       "        0.94371533],\n",
       "       ...,\n",
       "       [0.9423615 , 0.9430293 , 0.9372156 , ..., 0.95103943, 0.9409064 ,\n",
       "        0.9359767 ],\n",
       "       [0.9301432 , 0.92688274, 0.91313744, ..., 0.9248579 , 0.9219906 ,\n",
       "        0.92051744],\n",
       "       [0.04427115, 0.046459  , 0.04767657, ..., 0.03242739, 0.03001187,\n",
       "        0.02601447]], dtype='>f4')"
      ]
     },
     "execution_count": 45,
     "metadata": {},
     "output_type": "execute_result"
    },
    {
     "data": {
      "image/png": "[encoded data removed]",
      "text/plain": [
       "<Figure size 640x480 with 1 Axes>"
      ]
     },
     "metadata": {},
     "output_type": "display_data"
    }
   ],
   "source": [
    "'''\n",
    "Here we will take the average of across the flats and bias images to obtain master flats and biases.\n",
    "If we only have one flat and/or bias loaded, we can skip this step.\n",
    "'''\n",
    "def average_flats(flats):\n",
    "    \n",
    "    dimensions = return_dimensions(flats[0])\n",
    "    print(dimensions[1])\n",
    "    master_flat = [[0]*dimensions[1]]*dimensions[0]\n",
    "    \n",
    "    if(len(flats) == 0):\n",
    "        print(\"image load failure, please check path and retry.\")\n",
    "        return\n",
    "    #case in which only one flat is present\n",
    "    elif(len(flats) == 1):\n",
    "        master_flat = flats[0]\n",
    "        plt.imshow(master_flat)\n",
    "        return master_flat\n",
    "    elif(len(flats)>1):\n",
    "        for pixel_array in flats:\n",
    "            for i in range(0,dimensions[0]):\n",
    "                for j in range(0, dimensions[1]):\n",
    "                    #populate the master flat array with the average pixel values across all flats.\n",
    "                    master_flat[i][j] += pixel_array[i][j]/len(flats)\n",
    "        return master_flat \n",
    "    plt.imshow(master_flat)\n",
    "    \n",
    "    def average_biases(biases):\n",
    "        return\n",
    "        \n",
    "                    \n",
    "average_flats(flats)     \n",
    "\n",
    "            \n",
    "    \n",
    "    "
   ]
  },
  {
   "cell_type": "code",
   "execution_count": null,
   "metadata": {},
   "outputs": [],
   "source": []
  }
 ],
 "metadata": {
  "kernelspec": {
   "display_name": "pipeline_env",
   "language": "python",
   "name": "python3"
  },
  "language_info": {
   "codemirror_mode": {
    "name": "ipython",
    "version": 3
   },
   "file_extension": ".py",
   "mimetype": "text/x-python",
   "name": "python",
   "nbconvert_exporter": "python",
   "pygments_lexer": "ipython3",
   "version": "3.12.4"
  }
 },
 "nbformat": 4,
 "nbformat_minor": 2
}
